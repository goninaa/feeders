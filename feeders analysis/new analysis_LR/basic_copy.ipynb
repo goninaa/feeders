{
 "nbformat": 4,
 "nbformat_minor": 2,
 "metadata": {
  "language_info": {
   "name": "python",
   "codemirror_mode": {
    "name": "ipython",
    "version": 3
   }
  },
  "orig_nbformat": 2,
  "file_extension": ".py",
  "mimetype": "text/x-python",
  "name": "python",
  "npconvert_exporter": "python",
  "pygments_lexer": "ipython3",
  "version": 3
 },
 "cells": [
  {
   "cell_type": "code",
   "execution_count": 1,
   "metadata": {},
   "outputs": [],
   "source": [
    "import numpy as np\n",
    "import matplotlib.pyplot as plt\n",
    "import seaborn as sns\n",
    "import pandas as pd\n",
    "import matplotlib.dates as md\n",
    "import matplotlib.patches as mpatches\n",
    "\n",
    "%matplotlib inline"
   ]
  },
  {
   "cell_type": "code",
   "execution_count": 22,
   "metadata": {},
   "outputs": [],
   "source": [
    "fname = '2019-11-05_1.csv'"
   ]
  },
  {
   "cell_type": "code",
   "execution_count": 23,
   "metadata": {},
   "outputs": [],
   "source": [
    "df = pd.read_csv(fname)"
   ]
  },
  {
   "cell_type": "code",
   "execution_count": 24,
   "metadata": {},
   "outputs": [
    {
     "data": {
      "text/html": "<div>\n<style scoped>\n    .dataframe tbody tr th:only-of-type {\n        vertical-align: middle;\n    }\n\n    .dataframe tbody tr th {\n        vertical-align: top;\n    }\n\n    .dataframe thead th {\n        text-align: right;\n    }\n</style>\n<table border=\"1\" class=\"dataframe\">\n  <thead>\n    <tr style=\"text-align: right;\">\n      <th></th>\n      <th>Unnamed: 0</th>\n      <th>signal</th>\n      <th>bat_id_1</th>\n      <th>bat_id_2</th>\n      <th>feeder</th>\n      <th>pump</th>\n      <th>condition</th>\n    </tr>\n  </thead>\n  <tbody>\n    <tr>\n      <th>0</th>\n      <td>05-11-2019-16:37:25</td>\n      <td>NaN</td>\n      <td>NaN</td>\n      <td>NaN</td>\n      <td>no_bat</td>\n      <td>NaN</td>\n      <td>L reward</td>\n    </tr>\n    <tr>\n      <th>1</th>\n      <td>05-11-2019-16:37:26</td>\n      <td>play</td>\n      <td>NaN</td>\n      <td>NaN</td>\n      <td>no_bat</td>\n      <td>NaN</td>\n      <td>L reward</td>\n    </tr>\n    <tr>\n      <th>2</th>\n      <td>05-11-2019-16:37:27</td>\n      <td>NaN</td>\n      <td>NaN</td>\n      <td>NaN</td>\n      <td>no_bat</td>\n      <td>NaN</td>\n      <td>L reward</td>\n    </tr>\n    <tr>\n      <th>3</th>\n      <td>05-11-2019-16:37:28</td>\n      <td>NaN</td>\n      <td>NaN</td>\n      <td>NaN</td>\n      <td>no_bat</td>\n      <td>NaN</td>\n      <td>L reward</td>\n    </tr>\n    <tr>\n      <th>4</th>\n      <td>05-11-2019-16:37:29</td>\n      <td>NaN</td>\n      <td>NaN</td>\n      <td>NaN</td>\n      <td>no_bat</td>\n      <td>NaN</td>\n      <td>L reward</td>\n    </tr>\n  </tbody>\n</table>\n</div>",
      "text/plain": "            Unnamed: 0 signal bat_id_1  bat_id_2  feeder pump condition\n0  05-11-2019-16:37:25    NaN      NaN       NaN  no_bat  NaN  L reward\n1  05-11-2019-16:37:26   play      NaN       NaN  no_bat  NaN  L reward\n2  05-11-2019-16:37:27    NaN      NaN       NaN  no_bat  NaN  L reward\n3  05-11-2019-16:37:28    NaN      NaN       NaN  no_bat  NaN  L reward\n4  05-11-2019-16:37:29    NaN      NaN       NaN  no_bat  NaN  L reward"
     },
     "execution_count": 24,
     "metadata": {},
     "output_type": "execute_result"
    }
   ],
   "source": [
    "df.head()"
   ]
  },
  {
   "cell_type": "code",
   "execution_count": 33,
   "metadata": {},
   "outputs": [],
   "source": [
    "df.rename(columns={'Unnamed: 0' :'time'}, inplace=True)"
   ]
  },
  {
   "cell_type": "code",
   "execution_count": 34,
   "metadata": {},
   "outputs": [
    {
     "data": {
      "text/html": "<div>\n<style scoped>\n    .dataframe tbody tr th:only-of-type {\n        vertical-align: middle;\n    }\n\n    .dataframe tbody tr th {\n        vertical-align: top;\n    }\n\n    .dataframe thead th {\n        text-align: right;\n    }\n</style>\n<table border=\"1\" class=\"dataframe\">\n  <thead>\n    <tr style=\"text-align: right;\">\n      <th></th>\n      <th>time</th>\n      <th>signal</th>\n      <th>bat_id_1</th>\n      <th>bat_id_2</th>\n      <th>feeder</th>\n      <th>pump</th>\n      <th>condition</th>\n    </tr>\n  </thead>\n  <tbody>\n    <tr>\n      <th>0</th>\n      <td>05-11-2019-16:37:25</td>\n      <td>NaN</td>\n      <td>NaN</td>\n      <td>NaN</td>\n      <td>no_bat</td>\n      <td>NaN</td>\n      <td>L reward</td>\n    </tr>\n    <tr>\n      <th>1</th>\n      <td>05-11-2019-16:37:26</td>\n      <td>play</td>\n      <td>NaN</td>\n      <td>NaN</td>\n      <td>no_bat</td>\n      <td>NaN</td>\n      <td>L reward</td>\n    </tr>\n    <tr>\n      <th>2</th>\n      <td>05-11-2019-16:37:27</td>\n      <td>NaN</td>\n      <td>NaN</td>\n      <td>NaN</td>\n      <td>no_bat</td>\n      <td>NaN</td>\n      <td>L reward</td>\n    </tr>\n    <tr>\n      <th>3</th>\n      <td>05-11-2019-16:37:28</td>\n      <td>NaN</td>\n      <td>NaN</td>\n      <td>NaN</td>\n      <td>no_bat</td>\n      <td>NaN</td>\n      <td>L reward</td>\n    </tr>\n    <tr>\n      <th>4</th>\n      <td>05-11-2019-16:37:29</td>\n      <td>NaN</td>\n      <td>NaN</td>\n      <td>NaN</td>\n      <td>no_bat</td>\n      <td>NaN</td>\n      <td>L reward</td>\n    </tr>\n  </tbody>\n</table>\n</div>",
      "text/plain": "                  time signal bat_id_1  bat_id_2  feeder pump condition\n0  05-11-2019-16:37:25    NaN      NaN       NaN  no_bat  NaN  L reward\n1  05-11-2019-16:37:26   play      NaN       NaN  no_bat  NaN  L reward\n2  05-11-2019-16:37:27    NaN      NaN       NaN  no_bat  NaN  L reward\n3  05-11-2019-16:37:28    NaN      NaN       NaN  no_bat  NaN  L reward\n4  05-11-2019-16:37:29    NaN      NaN       NaN  no_bat  NaN  L reward"
     },
     "execution_count": 34,
     "metadata": {},
     "output_type": "execute_result"
    }
   ],
   "source": [
    "df.head()"
   ]
  },
  {
   "cell_type": "code",
   "execution_count": 35,
   "metadata": {},
   "outputs": [],
   "source": [
    "df.index = pd.to_datetime(df['time'])"
   ]
  },
  {
   "cell_type": "code",
   "execution_count": 36,
   "metadata": {},
   "outputs": [],
   "source": [
    "df.drop(['time'], axis=1, inplace=True)"
   ]
  },
  {
   "cell_type": "code",
   "execution_count": 37,
   "metadata": {},
   "outputs": [
    {
     "data": {
      "text/html": "<div>\n<style scoped>\n    .dataframe tbody tr th:only-of-type {\n        vertical-align: middle;\n    }\n\n    .dataframe tbody tr th {\n        vertical-align: top;\n    }\n\n    .dataframe thead th {\n        text-align: right;\n    }\n</style>\n<table border=\"1\" class=\"dataframe\">\n  <thead>\n    <tr style=\"text-align: right;\">\n      <th></th>\n      <th>signal</th>\n      <th>bat_id_1</th>\n      <th>bat_id_2</th>\n      <th>feeder</th>\n      <th>pump</th>\n      <th>condition</th>\n    </tr>\n    <tr>\n      <th>time</th>\n      <th></th>\n      <th></th>\n      <th></th>\n      <th></th>\n      <th></th>\n      <th></th>\n    </tr>\n  </thead>\n  <tbody>\n    <tr>\n      <th>2019-05-11 16:37:25</th>\n      <td>NaN</td>\n      <td>NaN</td>\n      <td>NaN</td>\n      <td>no_bat</td>\n      <td>NaN</td>\n      <td>L reward</td>\n    </tr>\n    <tr>\n      <th>2019-05-11 16:37:26</th>\n      <td>play</td>\n      <td>NaN</td>\n      <td>NaN</td>\n      <td>no_bat</td>\n      <td>NaN</td>\n      <td>L reward</td>\n    </tr>\n    <tr>\n      <th>2019-05-11 16:37:27</th>\n      <td>NaN</td>\n      <td>NaN</td>\n      <td>NaN</td>\n      <td>no_bat</td>\n      <td>NaN</td>\n      <td>L reward</td>\n    </tr>\n    <tr>\n      <th>2019-05-11 16:37:28</th>\n      <td>NaN</td>\n      <td>NaN</td>\n      <td>NaN</td>\n      <td>no_bat</td>\n      <td>NaN</td>\n      <td>L reward</td>\n    </tr>\n    <tr>\n      <th>2019-05-11 16:37:29</th>\n      <td>NaN</td>\n      <td>NaN</td>\n      <td>NaN</td>\n      <td>no_bat</td>\n      <td>NaN</td>\n      <td>L reward</td>\n    </tr>\n  </tbody>\n</table>\n</div>",
      "text/plain": "                    signal bat_id_1  bat_id_2  feeder pump condition\ntime                                                                \n2019-05-11 16:37:25    NaN      NaN       NaN  no_bat  NaN  L reward\n2019-05-11 16:37:26   play      NaN       NaN  no_bat  NaN  L reward\n2019-05-11 16:37:27    NaN      NaN       NaN  no_bat  NaN  L reward\n2019-05-11 16:37:28    NaN      NaN       NaN  no_bat  NaN  L reward\n2019-05-11 16:37:29    NaN      NaN       NaN  no_bat  NaN  L reward"
     },
     "execution_count": 37,
     "metadata": {},
     "output_type": "execute_result"
    }
   ],
   "source": [
    "df.head()"
   ]
  },
  {
   "cell_type": "code",
   "execution_count": 38,
   "metadata": {},
   "outputs": [],
   "source": [
    "df_feeder = df.groupby('feeder').count()"
   ]
  },
  {
   "cell_type": "code",
   "execution_count": 39,
   "metadata": {},
   "outputs": [
    {
     "data": {
      "text/html": "<div>\n<style scoped>\n    .dataframe tbody tr th:only-of-type {\n        vertical-align: middle;\n    }\n\n    .dataframe tbody tr th {\n        vertical-align: top;\n    }\n\n    .dataframe thead th {\n        text-align: right;\n    }\n</style>\n<table border=\"1\" class=\"dataframe\">\n  <thead>\n    <tr style=\"text-align: right;\">\n      <th></th>\n      <th>signal</th>\n      <th>bat_id_1</th>\n      <th>bat_id_2</th>\n      <th>pump</th>\n      <th>condition</th>\n    </tr>\n    <tr>\n      <th>feeder</th>\n      <th></th>\n      <th></th>\n      <th></th>\n      <th></th>\n      <th></th>\n    </tr>\n  </thead>\n  <tbody>\n    <tr>\n      <th>b'101'</th>\n      <td>4</td>\n      <td>1008</td>\n      <td>0</td>\n      <td>32</td>\n      <td>1009</td>\n    </tr>\n    <tr>\n      <th>b'102'</th>\n      <td>13</td>\n      <td>1750</td>\n      <td>0</td>\n      <td>66</td>\n      <td>1753</td>\n    </tr>\n    <tr>\n      <th>no_bat</th>\n      <td>564</td>\n      <td>0</td>\n      <td>0</td>\n      <td>2</td>\n      <td>12969</td>\n    </tr>\n  </tbody>\n</table>\n</div>",
      "text/plain": "        signal  bat_id_1  bat_id_2  pump  condition\nfeeder                                             \nb'101'       4      1008         0    32       1009\nb'102'      13      1750         0    66       1753\nno_bat     564         0         0     2      12969"
     },
     "execution_count": 39,
     "metadata": {},
     "output_type": "execute_result"
    }
   ],
   "source": [
    "df_feeder "
   ]
  },
  {
   "cell_type": "code",
   "execution_count": 40,
   "metadata": {},
   "outputs": [],
   "source": [
    "df_feeder.drop(['signal', 'bat_id_2', 'bat_id_1'], axis=1, inplace=True)"
   ]
  },
  {
   "cell_type": "code",
   "execution_count": 41,
   "metadata": {},
   "outputs": [],
   "source": [
    "df_feeder = pd.DataFrame(df_feeder)"
   ]
  },
  {
   "cell_type": "code",
   "execution_count": 42,
   "metadata": {},
   "outputs": [
    {
     "data": {
      "text/html": "<div>\n<style scoped>\n    .dataframe tbody tr th:only-of-type {\n        vertical-align: middle;\n    }\n\n    .dataframe tbody tr th {\n        vertical-align: top;\n    }\n\n    .dataframe thead th {\n        text-align: right;\n    }\n</style>\n<table border=\"1\" class=\"dataframe\">\n  <thead>\n    <tr style=\"text-align: right;\">\n      <th></th>\n      <th>pump</th>\n      <th>condition</th>\n    </tr>\n    <tr>\n      <th>feeder</th>\n      <th></th>\n      <th></th>\n    </tr>\n  </thead>\n  <tbody>\n    <tr>\n      <th>b'101'</th>\n      <td>32</td>\n      <td>1009</td>\n    </tr>\n    <tr>\n      <th>b'102'</th>\n      <td>66</td>\n      <td>1753</td>\n    </tr>\n    <tr>\n      <th>no_bat</th>\n      <td>2</td>\n      <td>12969</td>\n    </tr>\n  </tbody>\n</table>\n</div>",
      "text/plain": "        pump  condition\nfeeder                 \nb'101'    32       1009\nb'102'    66       1753\nno_bat     2      12969"
     },
     "execution_count": 42,
     "metadata": {},
     "output_type": "execute_result"
    }
   ],
   "source": [
    "df_feeder # pump = pump+no pump activity, condition = all activity"
   ]
  },
  {
   "cell_type": "code",
   "execution_count": 43,
   "metadata": {},
   "outputs": [],
   "source": [
    "df_sum =df_feeder.sum()"
   ]
  },
  {
   "cell_type": "code",
   "execution_count": 44,
   "metadata": {},
   "outputs": [
    {
     "data": {
      "text/plain": "100"
     },
     "execution_count": 44,
     "metadata": {},
     "output_type": "execute_result"
    }
   ],
   "source": [
    "df_sum['pump']"
   ]
  },
  {
   "cell_type": "code",
   "execution_count": 45,
   "metadata": {},
   "outputs": [],
   "source": [
    "df_feeder['choise proportion'] = df_feeder['pump']/df_sum['pump']"
   ]
  },
  {
   "cell_type": "code",
   "execution_count": 46,
   "metadata": {},
   "outputs": [
    {
     "data": {
      "text/html": "<div>\n<style scoped>\n    .dataframe tbody tr th:only-of-type {\n        vertical-align: middle;\n    }\n\n    .dataframe tbody tr th {\n        vertical-align: top;\n    }\n\n    .dataframe thead th {\n        text-align: right;\n    }\n</style>\n<table border=\"1\" class=\"dataframe\">\n  <thead>\n    <tr style=\"text-align: right;\">\n      <th></th>\n      <th>pump</th>\n      <th>condition</th>\n      <th>choise proportion</th>\n    </tr>\n    <tr>\n      <th>feeder</th>\n      <th></th>\n      <th></th>\n      <th></th>\n    </tr>\n  </thead>\n  <tbody>\n    <tr>\n      <th>b'101'</th>\n      <td>32</td>\n      <td>1009</td>\n      <td>0.32</td>\n    </tr>\n    <tr>\n      <th>b'102'</th>\n      <td>66</td>\n      <td>1753</td>\n      <td>0.66</td>\n    </tr>\n    <tr>\n      <th>no_bat</th>\n      <td>2</td>\n      <td>12969</td>\n      <td>0.02</td>\n    </tr>\n  </tbody>\n</table>\n</div>",
      "text/plain": "        pump  condition  choise proportion\nfeeder                                    \nb'101'    32       1009               0.32\nb'102'    66       1753               0.66\nno_bat     2      12969               0.02"
     },
     "execution_count": 46,
     "metadata": {},
     "output_type": "execute_result"
    }
   ],
   "source": [
    "df_feeder"
   ]
  },
  {
   "cell_type": "code",
   "execution_count": 47,
   "metadata": {},
   "outputs": [
    {
     "data": {
      "text/html": "<div>\n<style scoped>\n    .dataframe tbody tr th:only-of-type {\n        vertical-align: middle;\n    }\n\n    .dataframe tbody tr th {\n        vertical-align: top;\n    }\n\n    .dataframe thead th {\n        text-align: right;\n    }\n</style>\n<table border=\"1\" class=\"dataframe\">\n  <thead>\n    <tr style=\"text-align: right;\">\n      <th></th>\n      <th>signal</th>\n      <th>bat_id_1</th>\n      <th>bat_id_2</th>\n      <th>feeder</th>\n      <th>pump</th>\n      <th>condition</th>\n    </tr>\n    <tr>\n      <th>time</th>\n      <th></th>\n      <th></th>\n      <th></th>\n      <th></th>\n      <th></th>\n      <th></th>\n    </tr>\n  </thead>\n  <tbody>\n    <tr>\n      <th>2019-05-11 16:37:25</th>\n      <td>NaN</td>\n      <td>NaN</td>\n      <td>NaN</td>\n      <td>no_bat</td>\n      <td>NaN</td>\n      <td>L reward</td>\n    </tr>\n    <tr>\n      <th>2019-05-11 16:37:26</th>\n      <td>play</td>\n      <td>NaN</td>\n      <td>NaN</td>\n      <td>no_bat</td>\n      <td>NaN</td>\n      <td>L reward</td>\n    </tr>\n    <tr>\n      <th>2019-05-11 16:37:27</th>\n      <td>NaN</td>\n      <td>NaN</td>\n      <td>NaN</td>\n      <td>no_bat</td>\n      <td>NaN</td>\n      <td>L reward</td>\n    </tr>\n    <tr>\n      <th>2019-05-11 16:37:28</th>\n      <td>NaN</td>\n      <td>NaN</td>\n      <td>NaN</td>\n      <td>no_bat</td>\n      <td>NaN</td>\n      <td>L reward</td>\n    </tr>\n    <tr>\n      <th>2019-05-11 16:37:29</th>\n      <td>NaN</td>\n      <td>NaN</td>\n      <td>NaN</td>\n      <td>no_bat</td>\n      <td>NaN</td>\n      <td>L reward</td>\n    </tr>\n  </tbody>\n</table>\n</div>",
      "text/plain": "                    signal bat_id_1  bat_id_2  feeder pump condition\ntime                                                                \n2019-05-11 16:37:25    NaN      NaN       NaN  no_bat  NaN  L reward\n2019-05-11 16:37:26   play      NaN       NaN  no_bat  NaN  L reward\n2019-05-11 16:37:27    NaN      NaN       NaN  no_bat  NaN  L reward\n2019-05-11 16:37:28    NaN      NaN       NaN  no_bat  NaN  L reward\n2019-05-11 16:37:29    NaN      NaN       NaN  no_bat  NaN  L reward"
     },
     "execution_count": 47,
     "metadata": {},
     "output_type": "execute_result"
    }
   ],
   "source": [
    "df.head()"
   ]
  },
  {
   "cell_type": "code",
   "execution_count": 48,
   "metadata": {},
   "outputs": [],
   "source": [
    "df['condition'].fillna('unknown', inplace=True)"
   ]
  },
  {
   "cell_type": "code",
   "execution_count": 78,
   "metadata": {},
   "outputs": [],
   "source": [
    "# mask1 = df['feeder'] == \"b'1'\""
   ]
  },
  {
   "cell_type": "code",
   "execution_count": 79,
   "metadata": {},
   "outputs": [
    {
     "data": {
      "text/plain": "time\n2019-10-20 15:08:12    False\n2019-10-20 15:08:22    False\n2019-10-20 15:08:32    False\n2019-10-20 15:08:42    False\n2019-10-20 15:08:52    False\nName: feeder, dtype: bool"
     },
     "execution_count": 79,
     "metadata": {},
     "output_type": "execute_result"
    }
   ],
   "source": [
    "# mask1.head()"
   ]
  },
  {
   "cell_type": "code",
   "execution_count": 80,
   "metadata": {},
   "outputs": [],
   "source": [
    "# mask1.head()"
   ]
  },
  {
   "cell_type": "code",
   "execution_count": 49,
   "metadata": {},
   "outputs": [],
   "source": [
    "cond_r = df['condition'] == \"R reward\""
   ]
  },
  {
   "cell_type": "code",
   "execution_count": 50,
   "metadata": {},
   "outputs": [
    {
     "data": {
      "text/plain": "time\n2019-05-11 16:37:25    False\n2019-05-11 16:37:26    False\n2019-05-11 16:37:27    False\n2019-05-11 16:37:28    False\n2019-05-11 16:37:29    False\nName: condition, dtype: bool"
     },
     "execution_count": 50,
     "metadata": {},
     "output_type": "execute_result"
    }
   ],
   "source": [
    "cond_r.head()"
   ]
  },
  {
   "cell_type": "code",
   "execution_count": 51,
   "metadata": {},
   "outputs": [],
   "source": [
    "df_r = df.copy()[cond_r]"
   ]
  },
  {
   "cell_type": "code",
   "execution_count": 52,
   "metadata": {},
   "outputs": [
    {
     "data": {
      "text/html": "<div>\n<style scoped>\n    .dataframe tbody tr th:only-of-type {\n        vertical-align: middle;\n    }\n\n    .dataframe tbody tr th {\n        vertical-align: top;\n    }\n\n    .dataframe thead th {\n        text-align: right;\n    }\n</style>\n<table border=\"1\" class=\"dataframe\">\n  <thead>\n    <tr style=\"text-align: right;\">\n      <th></th>\n      <th>signal</th>\n      <th>bat_id_1</th>\n      <th>bat_id_2</th>\n      <th>feeder</th>\n      <th>pump</th>\n      <th>condition</th>\n    </tr>\n    <tr>\n      <th>time</th>\n      <th></th>\n      <th></th>\n      <th></th>\n      <th></th>\n      <th></th>\n      <th></th>\n    </tr>\n  </thead>\n  <tbody>\n    <tr>\n      <th>2019-05-11 17:37:28</th>\n      <td>NaN</td>\n      <td>NaN</td>\n      <td>NaN</td>\n      <td>no_bat</td>\n      <td>NaN</td>\n      <td>R reward</td>\n    </tr>\n    <tr>\n      <th>2019-05-11 17:37:29</th>\n      <td>play</td>\n      <td>NaN</td>\n      <td>NaN</td>\n      <td>no_bat</td>\n      <td>NaN</td>\n      <td>R reward</td>\n    </tr>\n    <tr>\n      <th>2019-05-11 17:37:30</th>\n      <td>NaN</td>\n      <td>NaN</td>\n      <td>NaN</td>\n      <td>no_bat</td>\n      <td>NaN</td>\n      <td>R reward</td>\n    </tr>\n    <tr>\n      <th>2019-05-11 17:37:31</th>\n      <td>NaN</td>\n      <td>NaN</td>\n      <td>NaN</td>\n      <td>no_bat</td>\n      <td>NaN</td>\n      <td>R reward</td>\n    </tr>\n    <tr>\n      <th>2019-05-11 17:37:32</th>\n      <td>NaN</td>\n      <td>NaN</td>\n      <td>NaN</td>\n      <td>no_bat</td>\n      <td>NaN</td>\n      <td>R reward</td>\n    </tr>\n  </tbody>\n</table>\n</div>",
      "text/plain": "                    signal bat_id_1  bat_id_2  feeder pump condition\ntime                                                                \n2019-05-11 17:37:28    NaN      NaN       NaN  no_bat  NaN  R reward\n2019-05-11 17:37:29   play      NaN       NaN  no_bat  NaN  R reward\n2019-05-11 17:37:30    NaN      NaN       NaN  no_bat  NaN  R reward\n2019-05-11 17:37:31    NaN      NaN       NaN  no_bat  NaN  R reward\n2019-05-11 17:37:32    NaN      NaN       NaN  no_bat  NaN  R reward"
     },
     "execution_count": 52,
     "metadata": {},
     "output_type": "execute_result"
    }
   ],
   "source": [
    "df_r.head()"
   ]
  },
  {
   "cell_type": "code",
   "execution_count": 53,
   "metadata": {},
   "outputs": [],
   "source": [
    "cond_l = df['condition'] == \"L reward\""
   ]
  },
  {
   "cell_type": "code",
   "execution_count": 54,
   "metadata": {},
   "outputs": [],
   "source": [
    "df_l = df.copy()[cond_l]"
   ]
  },
  {
   "cell_type": "code",
   "execution_count": 55,
   "metadata": {},
   "outputs": [
    {
     "data": {
      "text/html": "<div>\n<style scoped>\n    .dataframe tbody tr th:only-of-type {\n        vertical-align: middle;\n    }\n\n    .dataframe tbody tr th {\n        vertical-align: top;\n    }\n\n    .dataframe thead th {\n        text-align: right;\n    }\n</style>\n<table border=\"1\" class=\"dataframe\">\n  <thead>\n    <tr style=\"text-align: right;\">\n      <th></th>\n      <th>signal</th>\n      <th>bat_id_1</th>\n      <th>bat_id_2</th>\n      <th>feeder</th>\n      <th>pump</th>\n      <th>condition</th>\n    </tr>\n    <tr>\n      <th>time</th>\n      <th></th>\n      <th></th>\n      <th></th>\n      <th></th>\n      <th></th>\n      <th></th>\n    </tr>\n  </thead>\n  <tbody>\n    <tr>\n      <th>2019-05-11 16:37:25</th>\n      <td>NaN</td>\n      <td>NaN</td>\n      <td>NaN</td>\n      <td>no_bat</td>\n      <td>NaN</td>\n      <td>L reward</td>\n    </tr>\n    <tr>\n      <th>2019-05-11 16:37:26</th>\n      <td>play</td>\n      <td>NaN</td>\n      <td>NaN</td>\n      <td>no_bat</td>\n      <td>NaN</td>\n      <td>L reward</td>\n    </tr>\n    <tr>\n      <th>2019-05-11 16:37:27</th>\n      <td>NaN</td>\n      <td>NaN</td>\n      <td>NaN</td>\n      <td>no_bat</td>\n      <td>NaN</td>\n      <td>L reward</td>\n    </tr>\n    <tr>\n      <th>2019-05-11 16:37:28</th>\n      <td>NaN</td>\n      <td>NaN</td>\n      <td>NaN</td>\n      <td>no_bat</td>\n      <td>NaN</td>\n      <td>L reward</td>\n    </tr>\n    <tr>\n      <th>2019-05-11 16:37:29</th>\n      <td>NaN</td>\n      <td>NaN</td>\n      <td>NaN</td>\n      <td>no_bat</td>\n      <td>NaN</td>\n      <td>L reward</td>\n    </tr>\n  </tbody>\n</table>\n</div>",
      "text/plain": "                    signal bat_id_1  bat_id_2  feeder pump condition\ntime                                                                \n2019-05-11 16:37:25    NaN      NaN       NaN  no_bat  NaN  L reward\n2019-05-11 16:37:26   play      NaN       NaN  no_bat  NaN  L reward\n2019-05-11 16:37:27    NaN      NaN       NaN  no_bat  NaN  L reward\n2019-05-11 16:37:28    NaN      NaN       NaN  no_bat  NaN  L reward\n2019-05-11 16:37:29    NaN      NaN       NaN  no_bat  NaN  L reward"
     },
     "execution_count": 55,
     "metadata": {},
     "output_type": "execute_result"
    }
   ],
   "source": [
    "df_l.head()"
   ]
  },
  {
   "cell_type": "code",
   "execution_count": 56,
   "metadata": {},
   "outputs": [],
   "source": [
    "df_feeder_lcond = df_l.groupby('feeder').count()\n",
    "df_feeder_lcond.drop(['signal'], axis=1, inplace=True)\n",
    "lcond_sum =df_feeder_lcond.sum()\n",
    "df_feeder_lcond['choise proportion'] = df_feeder_lcond['pump']/lcond_sum['pump']"
   ]
  },
  {
   "cell_type": "code",
   "execution_count": 57,
   "metadata": {},
   "outputs": [
    {
     "data": {
      "text/html": "<div>\n<style scoped>\n    .dataframe tbody tr th:only-of-type {\n        vertical-align: middle;\n    }\n\n    .dataframe tbody tr th {\n        vertical-align: top;\n    }\n\n    .dataframe thead th {\n        text-align: right;\n    }\n</style>\n<table border=\"1\" class=\"dataframe\">\n  <thead>\n    <tr style=\"text-align: right;\">\n      <th></th>\n      <th>bat_id_1</th>\n      <th>bat_id_2</th>\n      <th>pump</th>\n      <th>condition</th>\n      <th>choise proportion</th>\n    </tr>\n    <tr>\n      <th>feeder</th>\n      <th></th>\n      <th></th>\n      <th></th>\n      <th></th>\n      <th></th>\n    </tr>\n  </thead>\n  <tbody>\n    <tr>\n      <th>b'101'</th>\n      <td>834</td>\n      <td>0</td>\n      <td>24</td>\n      <td>835</td>\n      <td>0.387097</td>\n    </tr>\n    <tr>\n      <th>b'102'</th>\n      <td>801</td>\n      <td>0</td>\n      <td>36</td>\n      <td>802</td>\n      <td>0.580645</td>\n    </tr>\n    <tr>\n      <th>no_bat</th>\n      <td>0</td>\n      <td>0</td>\n      <td>2</td>\n      <td>6982</td>\n      <td>0.032258</td>\n    </tr>\n  </tbody>\n</table>\n</div>",
      "text/plain": "        bat_id_1  bat_id_2  pump  condition  choise proportion\nfeeder                                                        \nb'101'       834         0    24        835           0.387097\nb'102'       801         0    36        802           0.580645\nno_bat         0         0     2       6982           0.032258"
     },
     "execution_count": 57,
     "metadata": {},
     "output_type": "execute_result"
    }
   ],
   "source": [
    "df_feeder_lcond"
   ]
  },
  {
   "cell_type": "code",
   "execution_count": 58,
   "metadata": {},
   "outputs": [],
   "source": [
    "df_feeder_rcond = df_r.groupby('feeder').count()\n",
    "df_feeder_rcond.drop(['signal'], axis=1, inplace=True)\n",
    "rcond_sum =df_feeder_rcond.sum()\n",
    "df_feeder_rcond['choise proportion'] = df_feeder_rcond['pump']/rcond_sum['pump']"
   ]
  },
  {
   "cell_type": "code",
   "execution_count": 59,
   "metadata": {},
   "outputs": [
    {
     "data": {
      "text/html": "<div>\n<style scoped>\n    .dataframe tbody tr th:only-of-type {\n        vertical-align: middle;\n    }\n\n    .dataframe tbody tr th {\n        vertical-align: top;\n    }\n\n    .dataframe thead th {\n        text-align: right;\n    }\n</style>\n<table border=\"1\" class=\"dataframe\">\n  <thead>\n    <tr style=\"text-align: right;\">\n      <th></th>\n      <th>bat_id_1</th>\n      <th>bat_id_2</th>\n      <th>pump</th>\n      <th>condition</th>\n      <th>choise proportion</th>\n    </tr>\n    <tr>\n      <th>feeder</th>\n      <th></th>\n      <th></th>\n      <th></th>\n      <th></th>\n      <th></th>\n    </tr>\n  </thead>\n  <tbody>\n    <tr>\n      <th>b'101'</th>\n      <td>174</td>\n      <td>0</td>\n      <td>8</td>\n      <td>174</td>\n      <td>0.210526</td>\n    </tr>\n    <tr>\n      <th>b'102'</th>\n      <td>949</td>\n      <td>0</td>\n      <td>30</td>\n      <td>951</td>\n      <td>0.789474</td>\n    </tr>\n    <tr>\n      <th>no_bat</th>\n      <td>0</td>\n      <td>0</td>\n      <td>0</td>\n      <td>5987</td>\n      <td>0.000000</td>\n    </tr>\n  </tbody>\n</table>\n</div>",
      "text/plain": "        bat_id_1  bat_id_2  pump  condition  choise proportion\nfeeder                                                        \nb'101'       174         0     8        174           0.210526\nb'102'       949         0    30        951           0.789474\nno_bat         0         0     0       5987           0.000000"
     },
     "execution_count": 59,
     "metadata": {},
     "output_type": "execute_result"
    }
   ],
   "source": [
    "df_feeder_rcond"
   ]
  },
  {
   "cell_type": "code",
   "execution_count": null,
   "metadata": {},
   "outputs": [],
   "source": []
  }
 ]
}