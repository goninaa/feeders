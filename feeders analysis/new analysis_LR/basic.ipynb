{
 "nbformat": 4,
 "nbformat_minor": 2,
 "metadata": {
  "language_info": {
   "name": "python",
   "codemirror_mode": {
    "name": "ipython",
    "version": 3
   }
  },
  "orig_nbformat": 2,
  "file_extension": ".py",
  "mimetype": "text/x-python",
  "name": "python",
  "npconvert_exporter": "python",
  "pygments_lexer": "ipython3",
  "version": 3
 },
 "cells": [
  {
   "cell_type": "code",
   "execution_count": 61,
   "metadata": {},
   "outputs": [],
   "source": [
    "import numpy as np\n",
    "import matplotlib.pyplot as plt\n",
    "import seaborn as sns\n",
    "import pandas as pd\n",
    "import matplotlib.dates as md\n",
    "import matplotlib.patches as mpatches\n",
    "\n",
    "%matplotlib inline"
   ]
  },
  {
   "cell_type": "code",
   "execution_count": 62,
   "metadata": {},
   "outputs": [],
   "source": [
    "fname = '2019-10-21_dotline.csv'"
   ]
  },
  {
   "cell_type": "code",
   "execution_count": 63,
   "metadata": {},
   "outputs": [],
   "source": [
    "df = pd.read_csv(fname)"
   ]
  },
  {
   "cell_type": "code",
   "execution_count": 64,
   "metadata": {},
   "outputs": [],
   "source": [
    "df.index = pd.to_datetime(df['time'])"
   ]
  },
  {
   "cell_type": "code",
   "execution_count": 65,
   "metadata": {},
   "outputs": [],
   "source": [
    "df.drop(['time'], axis=1, inplace=True)"
   ]
  },
  {
   "cell_type": "code",
   "execution_count": 66,
   "metadata": {},
   "outputs": [
    {
     "data": {
      "text/html": "<div>\n<style scoped>\n    .dataframe tbody tr th:only-of-type {\n        vertical-align: middle;\n    }\n\n    .dataframe tbody tr th {\n        vertical-align: top;\n    }\n\n    .dataframe thead th {\n        text-align: right;\n    }\n</style>\n<table border=\"1\" class=\"dataframe\">\n  <thead>\n    <tr style=\"text-align: right;\">\n      <th></th>\n      <th>signal</th>\n      <th>feeder</th>\n      <th>pump</th>\n      <th>condition</th>\n    </tr>\n    <tr>\n      <th>time</th>\n      <th></th>\n      <th></th>\n      <th></th>\n      <th></th>\n    </tr>\n  </thead>\n  <tbody>\n    <tr>\n      <th>2019-10-20 15:08:12</th>\n      <td>play</td>\n      <td>b''</td>\n      <td>NaN</td>\n      <td>R reward</td>\n    </tr>\n    <tr>\n      <th>2019-10-20 15:08:22</th>\n      <td>NaN</td>\n      <td>b''</td>\n      <td>NaN</td>\n      <td>R reward</td>\n    </tr>\n    <tr>\n      <th>2019-10-20 15:08:32</th>\n      <td>play</td>\n      <td>b''</td>\n      <td>NaN</td>\n      <td>R reward</td>\n    </tr>\n    <tr>\n      <th>2019-10-20 15:08:42</th>\n      <td>NaN</td>\n      <td>b''</td>\n      <td>NaN</td>\n      <td>R reward</td>\n    </tr>\n    <tr>\n      <th>2019-10-20 15:08:52</th>\n      <td>play</td>\n      <td>b''</td>\n      <td>NaN</td>\n      <td>R reward</td>\n    </tr>\n  </tbody>\n</table>\n</div>",
      "text/plain": "                    signal feeder pump condition\ntime                                            \n2019-10-20 15:08:12   play    b''  NaN  R reward\n2019-10-20 15:08:22    NaN    b''  NaN  R reward\n2019-10-20 15:08:32   play    b''  NaN  R reward\n2019-10-20 15:08:42    NaN    b''  NaN  R reward\n2019-10-20 15:08:52   play    b''  NaN  R reward"
     },
     "execution_count": 66,
     "metadata": {},
     "output_type": "execute_result"
    }
   ],
   "source": [
    "df.head()"
   ]
  },
  {
   "cell_type": "code",
   "execution_count": 67,
   "metadata": {},
   "outputs": [],
   "source": [
    "df_feeder = df.groupby('feeder').count()"
   ]
  },
  {
   "cell_type": "code",
   "execution_count": 68,
   "metadata": {},
   "outputs": [
    {
     "data": {
      "text/html": "<div>\n<style scoped>\n    .dataframe tbody tr th:only-of-type {\n        vertical-align: middle;\n    }\n\n    .dataframe tbody tr th {\n        vertical-align: top;\n    }\n\n    .dataframe thead th {\n        text-align: right;\n    }\n</style>\n<table border=\"1\" class=\"dataframe\">\n  <thead>\n    <tr style=\"text-align: right;\">\n      <th></th>\n      <th>signal</th>\n      <th>pump</th>\n      <th>condition</th>\n    </tr>\n    <tr>\n      <th>feeder</th>\n      <th></th>\n      <th></th>\n      <th></th>\n    </tr>\n  </thead>\n  <tbody>\n    <tr>\n      <th>b''</th>\n      <td>3065</td>\n      <td>0</td>\n      <td>6233</td>\n    </tr>\n    <tr>\n      <th>b'1'</th>\n      <td>4</td>\n      <td>47</td>\n      <td>735</td>\n    </tr>\n    <tr>\n      <th>b'2'</th>\n      <td>2</td>\n      <td>81</td>\n      <td>1093</td>\n    </tr>\n  </tbody>\n</table>\n</div>",
      "text/plain": "        signal  pump  condition\nfeeder                         \nb''       3065     0       6233\nb'1'         4    47        735\nb'2'         2    81       1093"
     },
     "execution_count": 68,
     "metadata": {},
     "output_type": "execute_result"
    }
   ],
   "source": [
    "df_feeder "
   ]
  },
  {
   "cell_type": "code",
   "execution_count": 69,
   "metadata": {},
   "outputs": [],
   "source": [
    "df_feeder.drop(['signal'], axis=1, inplace=True)"
   ]
  },
  {
   "cell_type": "code",
   "execution_count": 70,
   "metadata": {},
   "outputs": [],
   "source": [
    "df_feeder = pd.DataFrame(df_feeder)"
   ]
  },
  {
   "cell_type": "code",
   "execution_count": 71,
   "metadata": {},
   "outputs": [
    {
     "data": {
      "text/html": "<div>\n<style scoped>\n    .dataframe tbody tr th:only-of-type {\n        vertical-align: middle;\n    }\n\n    .dataframe tbody tr th {\n        vertical-align: top;\n    }\n\n    .dataframe thead th {\n        text-align: right;\n    }\n</style>\n<table border=\"1\" class=\"dataframe\">\n  <thead>\n    <tr style=\"text-align: right;\">\n      <th></th>\n      <th>pump</th>\n      <th>condition</th>\n    </tr>\n    <tr>\n      <th>feeder</th>\n      <th></th>\n      <th></th>\n    </tr>\n  </thead>\n  <tbody>\n    <tr>\n      <th>b''</th>\n      <td>0</td>\n      <td>6233</td>\n    </tr>\n    <tr>\n      <th>b'1'</th>\n      <td>47</td>\n      <td>735</td>\n    </tr>\n    <tr>\n      <th>b'2'</th>\n      <td>81</td>\n      <td>1093</td>\n    </tr>\n  </tbody>\n</table>\n</div>",
      "text/plain": "        pump  condition\nfeeder                 \nb''        0       6233\nb'1'      47        735\nb'2'      81       1093"
     },
     "execution_count": 71,
     "metadata": {},
     "output_type": "execute_result"
    }
   ],
   "source": [
    "df_feeder # pump = pump+no pump activity, condition = all activity"
   ]
  },
  {
   "cell_type": "code",
   "execution_count": 72,
   "metadata": {},
   "outputs": [],
   "source": [
    "df_sum =df_feeder.sum()"
   ]
  },
  {
   "cell_type": "code",
   "execution_count": 73,
   "metadata": {},
   "outputs": [
    {
     "data": {
      "text/plain": "128"
     },
     "execution_count": 73,
     "metadata": {},
     "output_type": "execute_result"
    }
   ],
   "source": [
    "df_sum['pump']"
   ]
  },
  {
   "cell_type": "code",
   "execution_count": 74,
   "metadata": {},
   "outputs": [],
   "source": [
    "df_feeder['choise proportion'] = df_feeder['pump']/df_sum['pump']"
   ]
  },
  {
   "cell_type": "code",
   "execution_count": 75,
   "metadata": {},
   "outputs": [
    {
     "data": {
      "text/html": "<div>\n<style scoped>\n    .dataframe tbody tr th:only-of-type {\n        vertical-align: middle;\n    }\n\n    .dataframe tbody tr th {\n        vertical-align: top;\n    }\n\n    .dataframe thead th {\n        text-align: right;\n    }\n</style>\n<table border=\"1\" class=\"dataframe\">\n  <thead>\n    <tr style=\"text-align: right;\">\n      <th></th>\n      <th>pump</th>\n      <th>condition</th>\n      <th>choise proportion</th>\n    </tr>\n    <tr>\n      <th>feeder</th>\n      <th></th>\n      <th></th>\n      <th></th>\n    </tr>\n  </thead>\n  <tbody>\n    <tr>\n      <th>b''</th>\n      <td>0</td>\n      <td>6233</td>\n      <td>0.000000</td>\n    </tr>\n    <tr>\n      <th>b'1'</th>\n      <td>47</td>\n      <td>735</td>\n      <td>0.367188</td>\n    </tr>\n    <tr>\n      <th>b'2'</th>\n      <td>81</td>\n      <td>1093</td>\n      <td>0.632812</td>\n    </tr>\n  </tbody>\n</table>\n</div>",
      "text/plain": "        pump  condition  choise proportion\nfeeder                                    \nb''        0       6233           0.000000\nb'1'      47        735           0.367188\nb'2'      81       1093           0.632812"
     },
     "execution_count": 75,
     "metadata": {},
     "output_type": "execute_result"
    }
   ],
   "source": [
    "df_feeder"
   ]
  },
  {
   "cell_type": "code",
   "execution_count": 76,
   "metadata": {},
   "outputs": [
    {
     "data": {
      "text/html": "<div>\n<style scoped>\n    .dataframe tbody tr th:only-of-type {\n        vertical-align: middle;\n    }\n\n    .dataframe tbody tr th {\n        vertical-align: top;\n    }\n\n    .dataframe thead th {\n        text-align: right;\n    }\n</style>\n<table border=\"1\" class=\"dataframe\">\n  <thead>\n    <tr style=\"text-align: right;\">\n      <th></th>\n      <th>signal</th>\n      <th>feeder</th>\n      <th>pump</th>\n      <th>condition</th>\n    </tr>\n    <tr>\n      <th>time</th>\n      <th></th>\n      <th></th>\n      <th></th>\n      <th></th>\n    </tr>\n  </thead>\n  <tbody>\n    <tr>\n      <th>2019-10-20 15:08:12</th>\n      <td>play</td>\n      <td>b''</td>\n      <td>NaN</td>\n      <td>R reward</td>\n    </tr>\n    <tr>\n      <th>2019-10-20 15:08:22</th>\n      <td>NaN</td>\n      <td>b''</td>\n      <td>NaN</td>\n      <td>R reward</td>\n    </tr>\n    <tr>\n      <th>2019-10-20 15:08:32</th>\n      <td>play</td>\n      <td>b''</td>\n      <td>NaN</td>\n      <td>R reward</td>\n    </tr>\n    <tr>\n      <th>2019-10-20 15:08:42</th>\n      <td>NaN</td>\n      <td>b''</td>\n      <td>NaN</td>\n      <td>R reward</td>\n    </tr>\n    <tr>\n      <th>2019-10-20 15:08:52</th>\n      <td>play</td>\n      <td>b''</td>\n      <td>NaN</td>\n      <td>R reward</td>\n    </tr>\n  </tbody>\n</table>\n</div>",
      "text/plain": "                    signal feeder pump condition\ntime                                            \n2019-10-20 15:08:12   play    b''  NaN  R reward\n2019-10-20 15:08:22    NaN    b''  NaN  R reward\n2019-10-20 15:08:32   play    b''  NaN  R reward\n2019-10-20 15:08:42    NaN    b''  NaN  R reward\n2019-10-20 15:08:52   play    b''  NaN  R reward"
     },
     "execution_count": 76,
     "metadata": {},
     "output_type": "execute_result"
    }
   ],
   "source": [
    "df.head()"
   ]
  },
  {
   "cell_type": "code",
   "execution_count": 77,
   "metadata": {},
   "outputs": [],
   "source": [
    "df['condition'].fillna('unknown', inplace=True)"
   ]
  },
  {
   "cell_type": "code",
   "execution_count": 78,
   "metadata": {},
   "outputs": [],
   "source": [
    "# mask1 = df['feeder'] == \"b'1'\""
   ]
  },
  {
   "cell_type": "code",
   "execution_count": 79,
   "metadata": {},
   "outputs": [
    {
     "data": {
      "text/plain": "time\n2019-10-20 15:08:12    False\n2019-10-20 15:08:22    False\n2019-10-20 15:08:32    False\n2019-10-20 15:08:42    False\n2019-10-20 15:08:52    False\nName: feeder, dtype: bool"
     },
     "execution_count": 79,
     "metadata": {},
     "output_type": "execute_result"
    }
   ],
   "source": [
    "# mask1.head()"
   ]
  },
  {
   "cell_type": "code",
   "execution_count": 80,
   "metadata": {},
   "outputs": [],
   "source": [
    "cond_r.head()"
   ]
  },
  {
   "cell_type": "code",
   "execution_count": 81,
   "metadata": {},
   "outputs": [
    {
     "data": {
      "text/plain": "time\n2019-10-20 15:08:12    True\n2019-10-20 15:08:22    True\n2019-10-20 15:08:32    True\n2019-10-20 15:08:42    True\n2019-10-20 15:08:52    True\nName: condition, dtype: bool"
     },
     "execution_count": 81,
     "metadata": {},
     "output_type": "execute_result"
    }
   ],
   "source": [
    "cond_r.head()"
   ]
  },
  {
   "cell_type": "code",
   "execution_count": 84,
   "metadata": {},
   "outputs": [],
   "source": [
    "df_r = df.copy()[cond_r]"
   ]
  },
  {
   "cell_type": "code",
   "execution_count": 85,
   "metadata": {},
   "outputs": [
    {
     "data": {
      "text/html": "<div>\n<style scoped>\n    .dataframe tbody tr th:only-of-type {\n        vertical-align: middle;\n    }\n\n    .dataframe tbody tr th {\n        vertical-align: top;\n    }\n\n    .dataframe thead th {\n        text-align: right;\n    }\n</style>\n<table border=\"1\" class=\"dataframe\">\n  <thead>\n    <tr style=\"text-align: right;\">\n      <th></th>\n      <th>signal</th>\n      <th>feeder</th>\n      <th>pump</th>\n      <th>condition</th>\n    </tr>\n    <tr>\n      <th>time</th>\n      <th></th>\n      <th></th>\n      <th></th>\n      <th></th>\n    </tr>\n  </thead>\n  <tbody>\n    <tr>\n      <th>2019-10-20 15:08:12</th>\n      <td>play</td>\n      <td>b''</td>\n      <td>NaN</td>\n      <td>R reward</td>\n    </tr>\n    <tr>\n      <th>2019-10-20 15:08:22</th>\n      <td>NaN</td>\n      <td>b''</td>\n      <td>NaN</td>\n      <td>R reward</td>\n    </tr>\n    <tr>\n      <th>2019-10-20 15:08:32</th>\n      <td>play</td>\n      <td>b''</td>\n      <td>NaN</td>\n      <td>R reward</td>\n    </tr>\n    <tr>\n      <th>2019-10-20 15:08:42</th>\n      <td>NaN</td>\n      <td>b''</td>\n      <td>NaN</td>\n      <td>R reward</td>\n    </tr>\n    <tr>\n      <th>2019-10-20 15:08:52</th>\n      <td>play</td>\n      <td>b''</td>\n      <td>NaN</td>\n      <td>R reward</td>\n    </tr>\n  </tbody>\n</table>\n</div>",
      "text/plain": "                    signal feeder pump condition\ntime                                            \n2019-10-20 15:08:12   play    b''  NaN  R reward\n2019-10-20 15:08:22    NaN    b''  NaN  R reward\n2019-10-20 15:08:32   play    b''  NaN  R reward\n2019-10-20 15:08:42    NaN    b''  NaN  R reward\n2019-10-20 15:08:52   play    b''  NaN  R reward"
     },
     "execution_count": 85,
     "metadata": {},
     "output_type": "execute_result"
    }
   ],
   "source": [
    "df_r.head()"
   ]
  },
  {
   "cell_type": "code",
   "execution_count": 86,
   "metadata": {},
   "outputs": [],
   "source": [
    "cond_l = df['condition'] == \"L reward\""
   ]
  },
  {
   "cell_type": "code",
   "execution_count": 87,
   "metadata": {},
   "outputs": [],
   "source": [
    "df_l = df.copy()[cond_l]"
   ]
  },
  {
   "cell_type": "code",
   "execution_count": 88,
   "metadata": {},
   "outputs": [
    {
     "data": {
      "text/html": "<div>\n<style scoped>\n    .dataframe tbody tr th:only-of-type {\n        vertical-align: middle;\n    }\n\n    .dataframe tbody tr th {\n        vertical-align: top;\n    }\n\n    .dataframe thead th {\n        text-align: right;\n    }\n</style>\n<table border=\"1\" class=\"dataframe\">\n  <thead>\n    <tr style=\"text-align: right;\">\n      <th></th>\n      <th>signal</th>\n      <th>feeder</th>\n      <th>pump</th>\n      <th>condition</th>\n    </tr>\n    <tr>\n      <th>time</th>\n      <th></th>\n      <th></th>\n      <th></th>\n      <th></th>\n    </tr>\n  </thead>\n  <tbody>\n    <tr>\n      <th>2019-10-20 16:08:20</th>\n      <td>play</td>\n      <td>b''</td>\n      <td>NaN</td>\n      <td>L reward</td>\n    </tr>\n    <tr>\n      <th>2019-10-20 16:08:30</th>\n      <td>NaN</td>\n      <td>b''</td>\n      <td>NaN</td>\n      <td>L reward</td>\n    </tr>\n    <tr>\n      <th>2019-10-20 16:08:40</th>\n      <td>play</td>\n      <td>b''</td>\n      <td>NaN</td>\n      <td>L reward</td>\n    </tr>\n    <tr>\n      <th>2019-10-20 16:08:50</th>\n      <td>NaN</td>\n      <td>b''</td>\n      <td>NaN</td>\n      <td>L reward</td>\n    </tr>\n    <tr>\n      <th>2019-10-20 16:09:00</th>\n      <td>play</td>\n      <td>b''</td>\n      <td>NaN</td>\n      <td>L reward</td>\n    </tr>\n  </tbody>\n</table>\n</div>",
      "text/plain": "                    signal feeder pump condition\ntime                                            \n2019-10-20 16:08:20   play    b''  NaN  L reward\n2019-10-20 16:08:30    NaN    b''  NaN  L reward\n2019-10-20 16:08:40   play    b''  NaN  L reward\n2019-10-20 16:08:50    NaN    b''  NaN  L reward\n2019-10-20 16:09:00   play    b''  NaN  L reward"
     },
     "execution_count": 88,
     "metadata": {},
     "output_type": "execute_result"
    }
   ],
   "source": [
    "df_l.head()"
   ]
  },
  {
   "cell_type": "code",
   "execution_count": 93,
   "metadata": {},
   "outputs": [],
   "source": [
    "df_feeder_lcond = df_l.groupby('feeder').count()\n",
    "df_feeder_lcond.drop(['signal'], axis=1, inplace=True)\n",
    "lcond_sum =df_feeder_lcond.sum()\n",
    "df_feeder_lcond['choise proportion'] = df_feeder_lcond['pump']/lcond_sum['pump']"
   ]
  },
  {
   "cell_type": "code",
   "execution_count": 94,
   "metadata": {},
   "outputs": [
    {
     "data": {
      "text/html": "<div>\n<style scoped>\n    .dataframe tbody tr th:only-of-type {\n        vertical-align: middle;\n    }\n\n    .dataframe tbody tr th {\n        vertical-align: top;\n    }\n\n    .dataframe thead th {\n        text-align: right;\n    }\n</style>\n<table border=\"1\" class=\"dataframe\">\n  <thead>\n    <tr style=\"text-align: right;\">\n      <th></th>\n      <th>pump</th>\n      <th>condition</th>\n      <th>choise proportion</th>\n    </tr>\n    <tr>\n      <th>feeder</th>\n      <th></th>\n      <th></th>\n      <th></th>\n    </tr>\n  </thead>\n  <tbody>\n    <tr>\n      <th>b''</th>\n      <td>0</td>\n      <td>3088</td>\n      <td>0.000000</td>\n    </tr>\n    <tr>\n      <th>b'1'</th>\n      <td>29</td>\n      <td>431</td>\n      <td>0.408451</td>\n    </tr>\n    <tr>\n      <th>b'2'</th>\n      <td>42</td>\n      <td>559</td>\n      <td>0.591549</td>\n    </tr>\n  </tbody>\n</table>\n</div>",
      "text/plain": "        pump  condition  choise proportion\nfeeder                                    \nb''        0       3088           0.000000\nb'1'      29        431           0.408451\nb'2'      42        559           0.591549"
     },
     "execution_count": 94,
     "metadata": {},
     "output_type": "execute_result"
    }
   ],
   "source": [
    "df_feeder_lcond"
   ]
  },
  {
   "cell_type": "code",
   "execution_count": 95,
   "metadata": {},
   "outputs": [],
   "source": [
    "df_feeder_rcond = df_r.groupby('feeder').count()\n",
    "df_feeder_rcond.drop(['signal'], axis=1, inplace=True)\n",
    "rcond_sum =df_feeder_rcond.sum()\n",
    "df_feeder_rcond['choise proportion'] = df_feeder_rcond['pump']/rcond_sum['pump']"
   ]
  },
  {
   "cell_type": "code",
   "execution_count": 96,
   "metadata": {},
   "outputs": [
    {
     "data": {
      "text/html": "<div>\n<style scoped>\n    .dataframe tbody tr th:only-of-type {\n        vertical-align: middle;\n    }\n\n    .dataframe tbody tr th {\n        vertical-align: top;\n    }\n\n    .dataframe thead th {\n        text-align: right;\n    }\n</style>\n<table border=\"1\" class=\"dataframe\">\n  <thead>\n    <tr style=\"text-align: right;\">\n      <th></th>\n      <th>pump</th>\n      <th>condition</th>\n      <th>choise proportion</th>\n    </tr>\n    <tr>\n      <th>feeder</th>\n      <th></th>\n      <th></th>\n      <th></th>\n    </tr>\n  </thead>\n  <tbody>\n    <tr>\n      <th>b''</th>\n      <td>0</td>\n      <td>3145</td>\n      <td>0.000000</td>\n    </tr>\n    <tr>\n      <th>b'1'</th>\n      <td>18</td>\n      <td>304</td>\n      <td>0.315789</td>\n    </tr>\n    <tr>\n      <th>b'2'</th>\n      <td>39</td>\n      <td>534</td>\n      <td>0.684211</td>\n    </tr>\n  </tbody>\n</table>\n</div>",
      "text/plain": "        pump  condition  choise proportion\nfeeder                                    \nb''        0       3145           0.000000\nb'1'      18        304           0.315789\nb'2'      39        534           0.684211"
     },
     "execution_count": 96,
     "metadata": {},
     "output_type": "execute_result"
    }
   ],
   "source": [
    "df_feeder_rcond"
   ]
  },
  {
   "cell_type": "code",
   "execution_count": null,
   "metadata": {},
   "outputs": [],
   "source": []
  }
 ]
}