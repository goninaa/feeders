{
  "nbformat": 4,
  "nbformat_minor": 0,
  "metadata": {
    "language_info": {
      "name": "python",
      "codemirror_mode": {
        "name": "ipython",
        "version": 3
      },
      "version": "3.7.2-final"
    },
    "orig_nbformat": 2,
    "file_extension": ".py",
    "mimetype": "text/x-python",
    "name": "python",
    "npconvert_exporter": "python",
    "pygments_lexer": "ipython3",
    "version": 3,
    "kernelspec": {
      "name": "python37264bitdfc66d2effcc44adbdf02525c30a10b3",
      "display_name": "Python 3.7.2 64-bit"
    },
    "colab": {
      "name": "analysis3_clean.ipynb",
      "provenance": [],
      "collapsed_sections": []
    }
  },
  "cells": [
    {
      "cell_type": "code",
      "metadata": {
        "id": "eCNEUqEvY9l0",
        "colab_type": "code",
        "colab": {}
      },
      "source": [
        "import numpy as np\n",
        "import matplotlib.pyplot as plt\n",
        "import seaborn as sns\n",
        "import pandas as pd\n",
        "import matplotlib.dates as md\n",
        "import matplotlib.patches as mpatches"
      ],
      "execution_count": 0,
      "outputs": []
    },
    {
      "cell_type": "code",
      "metadata": {
        "id": "6xM30lMqY9l-",
        "colab_type": "code",
        "colab": {}
      },
      "source": [
        "class Data:\n",
        "    def __init__ (self,fname):\n",
        "        self.fname = fname    \n",
        "        self.df = pd.read_csv(self.fname)\n",
        "        self.condition_start_end = []\n",
        "        self.df_score = pd.DataFrame()\n",
        "        self.base = 0\n",
        "        self.conds = [self.df['bat2_condition'].unique()]\n",
        "        self.df_min = None\n",
        "        self.df_stat = pd.DataFrame()\n",
        "        self.bats_stat_df = pd.DataFrame(columns=['bat_id','pump_1_reward','pump_1_no_reward',\n",
        "                                        'pump_2_reward','pump_2_no_reward', 'pump_1_sum', 'pump_2_sum',\n",
        "                                        'pumps_sum'])\n",
        "        self.df_filled = pd.DataFrame()\n",
        "        self.stay_prob_df = pd.DataFrame()\n",
        "        self.stay_num_df = None\n",
        "        self.proba_df = None\n",
        "\n",
        "    def time_to_index(self):\n",
        "        \"\"\"change time column into datetime index\"\"\"\n",
        "        self.df.rename(columns={'Unnamed: 0' :'time'}, inplace=True)\n",
        "        self.df.index = pd.to_datetime(self.df['time'], dayfirst=True)\n",
        "        self.df.drop(['time'], axis=1, inplace=True)\n",
        "\n",
        "    def remove_duplicated(self): #not in use\n",
        "        \"\"\"remove duplicated timestamps while keeping last value\"\"\"\n",
        "        bool_series = self.df['Unnamed: 0'].duplicated(keep = 'last')\n",
        "        self.df = self.df[~bool_series] \n",
        "\n",
        "    def basic_stat(self): #not finished\n",
        "        \"\"\" return the sum of choices that did each bat into a new df \"\"\"\n",
        "        # df_stat = self.df.copy().groupby('feeder').count()\n",
        "        self.df_stat = self.df.copy().groupby('bat1_condition').count()\n",
        "        self.df_stat.drop(['signal', 'bat1_id', 'bat1_loc', 'bat2_id',      'bat2_loc', 'bat2_condition'], axis=1, inplace=True)\n",
        "        print (self.df_stat)\n",
        "\n",
        "    def bats_stat(self): # not finished\n",
        "        \"\"\" statistics for each bat\"\"\"\n",
        "        # finding all unique tags:\n",
        "        tags = self.df_filled['bat1_id'].unique().tolist()\n",
        "        tags.extend(self.df_filled['bat2_id'].unique().tolist())\n",
        "        tags = list(set(tags))\n",
        "        tags = [x for x in tags if str(x) != 'nan']\n",
        "        print (tags)\n",
        "        for tag in tags:\n",
        "            tag_count = self.df_filled[self.df_filled['bat1_id']==tag].count(axis=0)\n",
        "            # print (tag_count)\n",
        "            if tag_count['bat1_id'] == 0: #checks if tag is in bat1_id, if not than it in bat2_id\n",
        "                tag_count = self.df_filled[self.df_filled['bat2_id']==tag].count(axis=0)\n",
        "                reward_count_1 = self.df_filled.groupby(['bat2_id','pump_1'])\n",
        "                reward_count_2 = self.df_filled.groupby(['bat2_id','pump_2'])\n",
        "            else:\n",
        "                reward_count_1 = self.df_filled.groupby(['bat1_id','pump_1'])\n",
        "                reward_count_2 = self.df_filled.groupby(['bat1_id','pump_2'])\n",
        "            \n",
        "            # print (reward_count_1.get_group((tag,'1')).count())\n",
        "            # print (reward_count_1.get_group((tag,'1')).count()['pump_1'])\n",
        "            tag_dict = {'bat_id': tag, \n",
        "                        'pump_1_reward': reward_count_1.get_group((tag,'1')).count()['pump_1'],\n",
        "                        'pump_1_no_reward': reward_count_1.get_group((tag,'no 1')).count()['pump_1'],\n",
        "                        'pump_2_reward': reward_count_2.get_group((tag,'2')).count()['pump_2'], \n",
        "                        'pump_2_no_reward': reward_count_2.get_group((tag,'no 2')).count()['pump_2'], \n",
        "                        'pump_1_sum': tag_count['pump_1'], 'pump_2_sum': tag_count['pump_2'], \n",
        "                        'pumps_sum': (tag_count['pump_1']+tag_count['pump_2'])}\n",
        "        \n",
        "            self.bats_stat_df = self.bats_stat_df.append(tag_dict, ignore_index=True)\n",
        "\n",
        "            # self.bats_stat_df = pd.MultiIndex.from_frame(self.bats_stat_df, names = ['bat_id','pump_1_reward','pump_1_no_reward',\n",
        "            #                             'pump_2_reward','pump_2_no_reward', 'pump_1_sum', 'pump_2_sum',\n",
        "            #                             'pumps_sum'])\n",
        "        print (self.bats_stat_df)\n",
        "        self.bats_stat_df.to_csv(f\"{self.fname}_bats_stat.csv\")\n",
        "        \n",
        "    def pump_score(self, fill_na = True): \n",
        "        \"\"\" give score 1 to each right feeder choice, score (-1) to left feeder choice,\n",
        "        score 0 when no choice been made (only if fillna = True). save this df into a csv file\"\"\"\n",
        "        self.df_score = self.df.copy() \n",
        "        mapping_1 = {'no 1': -1, 1: -1}\n",
        "        mapping_2 = {'no 2': 1, 2: 1}\n",
        "        self.df_score['pump_1'].fillna(0, inplace= True)\n",
        "        self.df_score['pump_2'].fillna(0, inplace= True)\n",
        "        self.df_score =  self.df_score.astype({'pump_1': 'object', 'pump_2': 'object'})\n",
        "        self.df_score.replace({'pump_1': mapping_1, 'pump_2': mapping_2}, inplace= True)\n",
        "        self.df_score =  self.df_score.astype({'pump_1': 'int', 'pump_2': 'int'})\n",
        "        self.df_score['sum_pump'] = self.df_score['pump_1']+self.df_score['pump_2']\n",
        "        if fill_na == False: # when fill_na=False only results where bat chose will be taken into account\n",
        "            self.df_score.sum_pump.replace(0, np.nan, inplace=True)\n",
        "        self.df_score.to_csv(f\"{self.fname}_score.csv\")\n",
        "\n",
        "    def match (self):\n",
        "        \"\"\" add a column with y/n if value was as expected or not. later used for plotting\"\"\"\n",
        "        self.df_score = pd.DataFrame(self.df.copy())\n",
        "        self.df_score['match'] = np.where( \n",
        "                                ( (self.df_score['pump_1'] == '1') & (self.df_score['bat2_condition'] == 'L reward' ) ) \n",
        "                                | ( (self.df_score['pump_1'] == 'no 1') & (self.df_score['bat2_condition'] == 'R reward' ) )\n",
        "                                | ( (self.df_score['pump_2'] == '2') & (self.df_score['bat2_condition'] == 'R reward' ))\n",
        "                                | ( (self.df_score['pump_2'] == 'no 2') & (self.df_score['bat2_condition'] == 'L reward' ))\n",
        "                                , 's', 'x')\n",
        "\n",
        "        # print (self.df_score[self.df_score['match'] == 'y'])\n",
        "        # self.df.rename(columns={'Unnamed: 0' :'time'}, inplace=True)\n",
        "        self.df_score.to_csv(f\"{self.fname}_score.csv\")\n",
        "\n",
        "    def stay_prob (self):\n",
        "        \"\"\" יש לך 4 אפשרויות. כמו באיור. פידר א גמול, א בלי גמול וכו. \n",
        "        נגיד שבחלון היו עשרה מקרים של א עם גמול, \n",
        "        מה הסיכוי שההחלטה היתה להשאר, כלומר לחזור ל-א\"\"\"\n",
        "        ## prepare df:\n",
        "        self.stay_prob_df = self.df.copy()\n",
        "        mapping_1 = {'no 1': -1}\n",
        "        mapping_2 = {'no 2': -2}\n",
        "        self.stay_prob_df['pump_1'].fillna(0, inplace= True)\n",
        "        self.stay_prob_df['pump_2'].fillna(0, inplace= True)\n",
        "        self.stay_prob_df = self.stay_prob_df.astype({'pump_1': 'object', 'pump_2': 'object'})\n",
        "        self.stay_prob_df.replace({'pump_1': mapping_1, 'pump_2': mapping_2}, inplace= True)\n",
        "        self.stay_prob_df = self.stay_prob_df.astype({'pump_1': 'int', 'pump_2': 'int'})\n",
        "        self.stay_prob_df['sum_pump'] = self.stay_prob_df['pump_1']+self.stay_prob_df['pump_2']\n",
        "        self.stay_prob_df['sum_pump'].replace(0, np.nan, inplace = True)\n",
        "        # self.stay_prob_df.sum_pump.replace(0, np.nan, inplace=True)\n",
        "        self.stay_prob_df.dropna(subset=['sum_pump'],inplace = True)\n",
        "        self.stay_prob_df['pre_choice'] = self.stay_prob_df['sum_pump'].shift(1)\n",
        "        self.stay_prob_df['choice'] = self.stay_prob_df['sum_pump']\n",
        "        map_choice = {-1:1,-2:2}\n",
        "        self.stay_prob_df.replace({'choice': map_choice}, inplace= True)\n",
        "\n",
        "    def stay_change_to_df(self,cond): #new version\n",
        "        \"\"\" create stay-change number (for specefic condition) df based on stay_prob func\"\"\"\n",
        "        # df1 = exp.stay_prob_df\n",
        "        df1= exp.stay_prob_df[exp.stay_prob_df['bat2_condition']== cond].copy()\n",
        "        # print (df1)\n",
        "        #create masks for pump_1\n",
        "        reward_1_stay = (df1['pre_choice']==1) & (df1['choice']==1)\n",
        "        reward_1_change = (df1['pre_choice']==1) & (df1['choice']==2)\n",
        "        unreward_1_stay = (df1['pre_choice']==-1) & (df1['choice']==1)\n",
        "        unreward_1_change = (df1['pre_choice']==-1) & (df1['choice']==2)\n",
        "        #create masks for pump_2\n",
        "        reward_2_stay = (df1['pre_choice']==2) & (df1['choice']==2)\n",
        "        reward_2_change = (df1['pre_choice']==2) & (df1['choice']==1)\n",
        "        unreward_2_stay = (df1['pre_choice']==-2) & (df1['choice']==2)\n",
        "        unreward_2_change = (df1['pre_choice']==-2) & (df1['choice']==1)\n",
        "        #create dict \n",
        "        reward = {'stay_1':df1[reward_1_stay].choice.count(), 'change_1':df1[reward_1_change].choice.count(),\n",
        "                  'stay_2':df1[reward_2_stay].choice.count(), 'change_2':df1[reward_2_change].choice.count()}\n",
        "        unreward = {'stay_1':df1[unreward_1_stay].choice.count(), 'change_1':df1[unreward_1_change].choice.count(),\n",
        "                    'stay_2':df1[unreward_2_stay].choice.count(), 'change_2':df1[unreward_2_change].choice.count()}\n",
        "        proba_dict = {'reward' :reward,'unreward':unreward}\n",
        "       \n",
        "        self.stay_num_df = pd.DataFrame(proba_dict)\n",
        "\n",
        "\n",
        "    def stay_prob_to_df(self):\n",
        "        \"\"\" create stay-change probability df based on...\"\"\"\n",
        "        self.proba_df = self.stay_num_df.copy().T\n",
        "        # self.proba_df['Probability_1'] = self.proba_df['stay_1']/(self.proba_df['stay_1']+self.proba_df['change_1'])\n",
        "        # self.proba_df['Probability_2'] = self.proba_df['stay_2']/(self.proba_df['stay_2']+self.proba_df['change_2'])\n",
        "        self.proba_df['Left_feeder(20)'] = self.proba_df['stay_1']/(self.proba_df['stay_1']+self.proba_df['change_1'])\n",
        "        self.proba_df['Right_feeder(80)'] = self.proba_df['stay_2']/(self.proba_df['stay_2']+self.proba_df['change_2'])\n",
        "        self.proba_df.drop(['stay_1','change_1','stay_2','change_2'], axis=1, inplace=True)\n",
        "  \n",
        "\n",
        "    def plot_prob(self):\n",
        "        ax = self.proba_df.plot.bar()\n",
        "        ax.set_title('Right feeder rewards')\n",
        "        ax.set_ylabel('Probability')\n",
        "\n",
        "\n",
        "    def run_prob(self,cond):\n",
        "        self.stay_prob()\n",
        "        self.stay_change_to_df(cond)\n",
        "        self.stay_prob_to_df()\n",
        "        # self.right_left_df()\n",
        "        self.plot_prob()\n",
        "\n",
        "    # def mean_pref(self, min = '10Min'): #not finished\n",
        "    #     mean_pref = self.df_score.resample(min, self.base, label='right').mean()\n",
        "\n",
        "    def fill_bat_id_gaps (self, gap_limit = 10):\n",
        "        \"\"\" fills gaps in reading bat_ids, good when there is more than 2 bats\n",
        "        and we need to know which one activiated the feeder\"\"\"\n",
        "        self.df_filled = self.df.copy()\n",
        "        self.df_filled['bat1_id'].fillna (method= 'ffill', limit= gap_limit, inplace= True)\n",
        "        self.df_filled['bat2_id'].fillna (method= 'ffill', limit= gap_limit, inplace= True)\n",
        "        self.df_filled.to_csv(f'{fname}_fill_gaps.csv')\n",
        "\n",
        "    def find_base(self):\n",
        "        self.base = self.df.index[0].minute\n",
        "\n",
        "    # def bat_choices (self, bat, feeder):\n",
        "    #     \"\"\" return a new df with one bat one feeder choices \"\"\"\n",
        "    #     pass\n",
        "\n",
        "    def cond_times(self):\n",
        "        \"\"\" return new df of start and end time of each condition\"\"\"\n",
        "        df = self.df.copy()\n",
        "        df_no_idx = df.reset_index()\n",
        "        df_conds = pd.concat([df_no_idx['bat2_condition'], df_no_idx['bat2_condition'].shift()], axis=1)\n",
        "        df_conds.columns = ['cond1', 'cond2']\n",
        "        df_conds = df_conds.fillna(method='ffill')\n",
        "        idx = df_conds[df_conds['cond1'] != df_conds['cond2']].index\n",
        "        idx_list = list(idx)\n",
        "        idx_list.remove(0)\n",
        "        idx_list = [x-1 for x in idx_list]\n",
        "        idx_list_max = idx_list + [df.index.shape[0]-1]\n",
        "        idx_list_min = [0] + [x+1 for x in idx_list]\n",
        "        self.df_min = df.iloc[idx_list_min]\n",
        "        df_max = df.iloc[idx_list_max]\n",
        "        self.condition_start_end = list(zip(self.df_min.index, df_max.index))\n",
        "\n",
        "    def plot_all_choices_match(self, name):\n",
        "        \"\"\" \"\"\"\n",
        "        pd.plotting.register_matplotlib_converters(explicit=True)\n",
        "\n",
        "        # y_match = self.df_score[self.df_score['match'] == 'y']\n",
        "        # n_match = self.df_score[self.df_score['match'] == 'n']\n",
        "\n",
        "        fig = plt.figure(figsize=(10,10))\n",
        "        figtemp, ax = plt.subplots(1, 1)\n",
        "        plt.style.use('seaborn')\n",
        "        # choices = plt.plot_date(self.df_score.index, self.df_score['sum_pump'], marker = (np.where((self.df_score[self.df_score['match'] == 'y']), 's', 'x')), linestyle=':')\n",
        "        self.df_score['time'] = pd.to_datetime(self.df_score.index, dayfirst=True)\n",
        "        # pd.to_datetime(self.df_score['time'], dayfirst=True)\n",
        "        data = self.df_score\n",
        "        # sns.scatterplot(data=data, x='time', y='sum_pump', style='match')\n",
        "        # sns.scatterplot( x=self.df_score['time'], y='sum_pump', style='match', data=data)\n",
        "        sns.lineplot( x=self.df_score['time'], y=self.df_score['sum_pump'], hue=self.df_score['match'], style = self.df_score['match'], data=data, markers= True)\n",
        "        # sns.lineplot( x=self.df_score['time'], y=self.df_score['sum_pump'], data=data, markers= True)\n",
        "        # g.fig.autofmt_xdate()\n",
        "        # plt.title (f'bats choices')\n",
        "        # plt.ylabel('1 = right feeder, (-1) = left feeder')\n",
        "        # # Set time format and the interval of ticks (every 15 minutes)\n",
        "        # xformatter = md.DateFormatter('%H:%M')\n",
        "        # xlocator = md.MinuteLocator(interval = 60)\n",
        "        # # Set xtick labels to appear every 60 minutes\n",
        "        # ax.xaxis.set_major_locator(xlocator)\n",
        "        # ## Format xtick labels as HH:MM\n",
        "        # plt.gcf().axes[0].xaxis.set_major_formatter(xformatter)\n",
        "        # # rotate_labels\n",
        "        # for label in ax.get_xticklabels():\n",
        "        #     label.set_rotation(40)\n",
        "        #     label.set_horizontalalignment('right')\n",
        "\n",
        "        cond_dict = { 'unknown': 'y', 'R reward': 'g', 'L reward': 'r', 'equal reward': 'c'}\n",
        "        # cond_dict = { 'unknown': 'y', 'R reward': 'g', 'L reward': 'r'}\n",
        "        # cond_dict = { 'unknown': 'y', 'R reward': 'g', 'equal reward': 'r'}\n",
        "        # cond_dict = { self.conds[2]: 'y', self.conds[0]: 'g', self.conds[1]: 'r'}\n",
        "        for min_time,max_time in self.condition_start_end:\n",
        "            cond = self.df_min.loc[min_time]['bat2_condition']\n",
        "            plt.axvspan(min_time,max_time, alpha=0.2, color=cond_dict[cond])\n",
        "        g_patch = mpatches.Patch(color='g', label='R reward')\n",
        "        r_patch = mpatches.Patch(color='r', label='L reward')\n",
        "        plt.legend(handles=[g_patch,r_patch], loc='upper right')\n",
        "        figtemp.savefig(f'{fname}_choices_plot_{name}.png')\n",
        "        figtemp.savefig(f'{fname}_choices_plot_{name}.svg')\n",
        "\n",
        "    def plot_all_choices(self, name):\n",
        "        \"\"\" \"\"\"\n",
        "        pd.plotting.register_matplotlib_converters(explicit=True)\n",
        "\n",
        "        fig = plt.figure(figsize=(10,10))\n",
        "        figtemp, ax = plt.subplots(1, 1)\n",
        "        plt.style.use('seaborn')\n",
        "        choices = plt.plot_date(self.df_score.index, self.df_score['sum_pump'], linestyle=':')\n",
        "        plt.title (f'bats choices')\n",
        "        plt.ylabel('1 = right feeder, (-1) = left feeder')\n",
        "        # Set time format and the interval of ticks (every 15 minutes)\n",
        "        xformatter = md.DateFormatter('%H:%M')\n",
        "        xlocator = md.MinuteLocator(interval = 60)\n",
        "        # Set xtick labels to appear every 60 minutes\n",
        "        ax.xaxis.set_major_locator(xlocator)\n",
        "        ## Format xtick labels as HH:MM\n",
        "        plt.gcf().axes[0].xaxis.set_major_formatter(xformatter)\n",
        "        # rotate_labels\n",
        "        for label in ax.get_xticklabels():\n",
        "            label.set_rotation(40)\n",
        "            label.set_horizontalalignment('right')\n",
        "\n",
        "        cond_dict = { 'unknown': 'y', 'R reward': 'g', 'L reward': 'r', 'equal reward': 'c'}\n",
        "        # cond_dict = { 'unknown': 'y', 'R reward': 'g', 'L reward': 'r'}\n",
        "        # cond_dict = { 'unknown': 'y', 'R reward': 'g', 'equal reward': 'r'}\n",
        "        # cond_dict = { self.conds[2]: 'y', self.conds[0]: 'g', self.conds[1]: 'r'}\n",
        "        for min_time,max_time in self.condition_start_end:\n",
        "            cond = self.df_min.loc[min_time]['bat2_condition']\n",
        "            plt.axvspan(min_time,max_time, alpha=0.2, color=cond_dict[cond])\n",
        "        g_patch = mpatches.Patch(color='g', label='R reward')\n",
        "        r_patch = mpatches.Patch(color='r', label='L reward')\n",
        "        plt.legend(handles=[g_patch,r_patch], loc='upper right')\n",
        "        figtemp.savefig(f'{fname}_choices_plot_{name}.png')\n",
        "        figtemp.savefig(f'{fname}_choices_plot_{name}.svg')\n",
        "\n",
        "    def plot_pref (self, minutes = '10Min', name= 'choices_only'): \n",
        "        \"\"\" \"\"\"\n",
        "        df_mean_pref = self.df_score.resample(minutes, base = self.base, label='right').mean()\n",
        "   \n",
        "        pd.plotting.register_matplotlib_converters(explicit=True)\n",
        "\n",
        "        fig = plt.figure(figsize=(10,10))\n",
        "        figtemp, ax = plt.subplots(1, 1)\n",
        "        plt.style.use('seaborn')\n",
        "        choices = plt.plot_date(df_mean_pref.index, df_mean_pref['sum_pump'], linestyle=':')\n",
        "        plt.title (f'mean ({minutes}) of choices')\n",
        "        plt.ylabel('1 = right feeder, (-1) = left feeder')\n",
        "        # Set time format and the interval of ticks (every 15 minutes)\n",
        "        xformatter = md.DateFormatter('%H:%M')\n",
        "        xlocator = md.MinuteLocator(interval = 60)\n",
        "        # Set xtick labels to appear every 60 minutes\n",
        "        ax.xaxis.set_major_locator(xlocator)\n",
        "        ## Format xtick labels as HH:MM\n",
        "        plt.gcf().axes[0].xaxis.set_major_formatter(xformatter)\n",
        "        # rotate_labels\n",
        "        for label in ax.get_xticklabels():\n",
        "            label.set_rotation(40)\n",
        "            label.set_horizontalalignment('right')\n",
        "\n",
        "        cond_dict = { 'unknown': 'y', 'R reward': 'g', 'L reward': 'r', 'equal reward': 'c'}\n",
        "        # cond_dict = { 'unknown': 'y', 'R reward': 'g', 'equal reward': 'r'}\n",
        "        # cond_dict = { self.conds[2]: 'y', self.conds[0]: 'g', self.conds[1]: 'r'}\n",
        "        for min_time,max_time in self.condition_start_end:\n",
        "            cond = self.df_min.loc[min_time]['bat2_condition']\n",
        "            plt.axvspan(min_time,max_time, alpha=0.2, color=cond_dict[cond])\n",
        "        g_patch = mpatches.Patch(color='g', label='R reward')\n",
        "        r_patch = mpatches.Patch(color='r', label='L reward')\n",
        "        plt.legend(handles=[g_patch,r_patch], loc='upper right')\n",
        "        figtemp.savefig(f'{fname}_{minutes}_mean_plot_{name}.png')\n",
        "        figtemp.savefig(f'{fname}_{minutes}_mean_plot_{name}.svg')\n",
        "        plt.show()\n",
        "       \n",
        "\n",
        "\n",
        "\n",
        "    def run_fill_na(self):\n",
        "        self.time_to_index()\n",
        "        self.find_base()\n",
        "        self.match()\n",
        "        self.pump_score()\n",
        "        # self.pump_score(fill_na=False)\n",
        "        self.cond_times()\n",
        "        self.plot_pref (minutes = '10Min', name = 'fill_na')\n",
        "        self.plot_pref (minutes = '60Min', name = 'fill_na')\n",
        "        self.plot_all_choices('fill_na')\n",
        "        self.basic_stat()\n",
        "        # print (self.df_stat)\n",
        "\n",
        "    def run(self):\n",
        "        self.time_to_index()\n",
        "        self.find_base()\n",
        "        self.match() \n",
        "        # self.pump_score()\n",
        "        self.pump_score(fill_na=False) \n",
        "        self.cond_times()\n",
        "        self.plot_pref (minutes = '10Min', name = 'choices_only')\n",
        "        self.plot_pref (minutes = '60Min', name = 'choices_only')\n",
        "        self.plot_all_choices_match('choices_only')\n",
        "        self.fill_bat_id_gaps()\n",
        "        self.basic_stat()\n",
        "        # print (self.df_stat)"
      ],
      "execution_count": 0,
      "outputs": []
    },
    {
      "cell_type": "code",
      "metadata": {
        "id": "P7Uanm9tZ4Xb",
        "colab_type": "code",
        "outputId": "e68760c9-cba4-42a5-c742-c462cb9fbfb7",
        "colab": {
          "resources": {
            "http://localhost:8080/nbextensions/google.colab/files.js": {
              "data": "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",
              "ok": true,
              "headers": [
                [
                  "content-type",
                  "application/javascript"
                ]
              ],
              "status": 200,
              "status_text": ""
            }
          },
          "base_uri": "https://localhost:8080/",
          "height": 71
        }
      },
      "source": [
        "from google.colab import files\n",
        "uploaded = files.upload()"
      ],
      "execution_count": 0,
      "outputs": [
        {
          "output_type": "display_data",
          "data": {
            "text/html": [
              "\n",
              "     <input type=\"file\" id=\"files-3dafaac6-0095-4c24-b685-93f820c3f737\" name=\"files[]\" multiple disabled />\n",
              "     <output id=\"result-3dafaac6-0095-4c24-b685-93f820c3f737\">\n",
              "      Upload widget is only available when the cell has been executed in the\n",
              "      current browser session. Please rerun this cell to enable.\n",
              "      </output>\n",
              "      <script src=\"/nbextensions/google.colab/files.js\"></script> "
            ],
            "text/plain": [
              "<IPython.core.display.HTML object>"
            ]
          },
          "metadata": {
            "tags": []
          }
        },
        {
          "output_type": "stream",
          "text": [
            "Saving 2019-12-04_S_no_entrance.csv to 2019-12-04_S_no_entrance (2).csv\n"
          ],
          "name": "stdout"
        }
      ]
    },
    {
      "cell_type": "code",
      "metadata": {
        "id": "of0SNEgoZ5t5",
        "colab_type": "code",
        "colab": {}
      },
      "source": [
        "import io\n",
        "# fname = io.BytesIO(uploaded['2019-12-06_F_percent.csv'])\n",
        "fname = io.BytesIO(uploaded['2019-12-04_S_no_entrance.csv'])"
      ],
      "execution_count": 0,
      "outputs": []
    },
    {
      "cell_type": "code",
      "metadata": {
        "id": "RtyjGmrZrVWr",
        "colab_type": "code",
        "outputId": "b3718c70-dfe7-4d95-bd82-9f64f0df356c",
        "colab": {
          "resources": {
            "http://localhost:8080/nbextensions/google.colab/files.js": {
              "data": "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",
              "ok": true,
              "headers": [
                [
                  "content-type",
                  "application/javascript"
                ]
              ],
              "status": 200,
              "status_text": ""
            }
          },
          "base_uri": "https://localhost:8080/",
          "height": 71
        }
      },
      "source": [
        "from google.colab import files\n",
        "uploaded = files.upload()"
      ],
      "execution_count": 0,
      "outputs": [
        {
          "output_type": "display_data",
          "data": {
            "text/html": [
              "\n",
              "     <input type=\"file\" id=\"files-46694fa6-b593-4885-9f31-52d26ef9b389\" name=\"files[]\" multiple disabled />\n",
              "     <output id=\"result-46694fa6-b593-4885-9f31-52d26ef9b389\">\n",
              "      Upload widget is only available when the cell has been executed in the\n",
              "      current browser session. Please rerun this cell to enable.\n",
              "      </output>\n",
              "      <script src=\"/nbextensions/google.colab/files.js\"></script> "
            ],
            "text/plain": [
              "<IPython.core.display.HTML object>"
            ]
          },
          "metadata": {
            "tags": []
          }
        },
        {
          "output_type": "stream",
          "text": [
            "Saving 2019-12-06_F_percent.csv to 2019-12-06_F_percent.csv\n"
          ],
          "name": "stdout"
        }
      ]
    },
    {
      "cell_type": "code",
      "metadata": {
        "id": "sLvxxmXTrar2",
        "colab_type": "code",
        "outputId": "ef2b7551-7382-43db-fb20-60cb0ad45741",
        "colab": {
          "base_uri": "https://localhost:8080/",
          "height": 181
        }
      },
      "source": [
        "import io\n",
        "fname = io.BytesIO(uploaded['2019-12-11_F_G.csv'])"
      ],
      "execution_count": 0,
      "outputs": [
        {
          "output_type": "error",
          "ename": "KeyError",
          "evalue": "ignored",
          "traceback": [
            "\u001b[0;31m---------------------------------------------------------------------------\u001b[0m",
            "\u001b[0;31mKeyError\u001b[0m                                  Traceback (most recent call last)",
            "\u001b[0;32m<ipython-input-12-1fc176461059>\u001b[0m in \u001b[0;36m<module>\u001b[0;34m()\u001b[0m\n\u001b[1;32m      1\u001b[0m \u001b[0;32mimport\u001b[0m \u001b[0mio\u001b[0m\u001b[0;34m\u001b[0m\u001b[0;34m\u001b[0m\u001b[0m\n\u001b[0;32m----> 2\u001b[0;31m \u001b[0mfname\u001b[0m \u001b[0;34m=\u001b[0m \u001b[0mio\u001b[0m\u001b[0;34m.\u001b[0m\u001b[0mBytesIO\u001b[0m\u001b[0;34m(\u001b[0m\u001b[0muploaded\u001b[0m\u001b[0;34m[\u001b[0m\u001b[0;34m'2019-12-11_F_G.csv'\u001b[0m\u001b[0;34m]\u001b[0m\u001b[0;34m)\u001b[0m\u001b[0;34m\u001b[0m\u001b[0;34m\u001b[0m\u001b[0m\n\u001b[0m",
            "\u001b[0;31mKeyError\u001b[0m: '2019-12-11_F_G.csv'"
          ]
        }
      ]
    },
    {
      "cell_type": "code",
      "metadata": {
        "id": "OgCtny74Y9mC",
        "colab_type": "code",
        "colab": {}
      },
      "source": [
        "# fname = '2019-12-06_F_percent.csv'\n",
        "# fname = '/Users/gonina/Library/Mobile Documents/com~apple~CloudDocs/lab/python_codes/feeders/feeders analysis/2019-12-06_F_percent.csv'\n",
        "exp = Data(fname)\n",
        "exp.time_to_index()\n",
        "exp.pump_score(fill_na = False)\n",
        "exp.fill_bat_id_gaps()"
      ],
      "execution_count": 0,
      "outputs": []
    },
    {
      "cell_type": "code",
      "metadata": {
        "id": "IfsTUz6Gi7Uj",
        "colab_type": "code",
        "outputId": "87e9f13b-de07-4c17-9262-d81a795f0f8d",
        "colab": {
          "base_uri": "https://localhost:8080/",
          "height": 319
        }
      },
      "source": [
        "exp.run_prob('R reward')"
      ],
      "execution_count": 0,
      "outputs": [
        {
          "output_type": "display_data",
          "data": {
            "image/png": "[encoded data removed]",
            "text/plain": [
              "<Figure size 432x288 with 1 Axes>"
            ]
          },
          "metadata": {
            "tags": []
          }
        }
      ]
    }
  ]
}